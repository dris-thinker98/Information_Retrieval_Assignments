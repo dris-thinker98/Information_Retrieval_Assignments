{
  "nbformat": 4,
  "nbformat_minor": 0,
  "metadata": {
    "colab": {
      "name": "IR_Assignment2_Q3.ipynb",
      "provenance": [],
      "collapsed_sections": []
    },
    "kernelspec": {
      "name": "python3",
      "display_name": "Python 3"
    },
    "language_info": {
      "name": "python"
    }
  },
  "cells": [
    {
      "cell_type": "code",
      "metadata": {
        "colab": {
          "base_uri": "https://localhost:8080/"
        },
        "id": "Is0MSUqHlpqr",
        "outputId": "f97fc787-6ee9-4645-f8a5-acdfacd0f8fd"
      },
      "source": [
        "from google.colab import drive\n",
        "drive.mount('/content/drive')"
      ],
      "execution_count": 1,
      "outputs": [
        {
          "output_type": "stream",
          "text": [
            "Mounted at /content/drive\n"
          ],
          "name": "stdout"
        }
      ]
    },
    {
      "cell_type": "code",
      "metadata": {
        "id": "wwX7E2nymrdM"
      },
      "source": [
        "#import packages\n",
        "\n",
        "import numpy as np\n",
        "import math\n",
        "from nltk import word_tokenize\n",
        "from matplotlib import pyplot as plt"
      ],
      "execution_count": 2,
      "outputs": []
    },
    {
      "cell_type": "code",
      "metadata": {
        "id": "kAn2W105m7P1"
      },
      "source": [
        "#load data\n",
        "data = open(\"/content/drive/MyDrive/IR-assignment-2-data.txt\", 'r',encoding='Utf-8')"
      ],
      "execution_count": 3,
      "outputs": []
    },
    {
      "cell_type": "code",
      "metadata": {
        "colab": {
          "base_uri": "https://localhost:8080/"
        },
        "id": "scMlxYhmqGVG",
        "outputId": "59ad8044-7448-487a-9307-68e84a98b66f"
      },
      "source": [
        "#read text-data from data\n",
        "\n",
        "read_data = data.readlines()\n",
        "print(len(read_data))"
      ],
      "execution_count": 4,
      "outputs": [
        {
          "output_type": "stream",
          "text": [
            "239093\n"
          ],
          "name": "stdout"
        }
      ]
    },
    {
      "cell_type": "code",
      "metadata": {
        "id": "p-nXauqeqNhG"
      },
      "source": [
        "#extract data with qid:4\n",
        "\n",
        "read_lines=[]\n",
        "i=0\n",
        "for l in read_data:\n",
        "    if(l.split()[1]=='qid:4'):\n",
        "        #print(l)\n",
        "        read_lines.append(l)\n",
        "    i = i + 1"
      ],
      "execution_count": 5,
      "outputs": []
    },
    {
      "cell_type": "code",
      "metadata": {
        "id": "3O1ndBjgqq1M"
      },
      "source": [
        "#calculating DCG\n",
        "dcg = []\n",
        "DCG50 = 0\n",
        "DCGWhole = 0\n",
        "c = 0\n",
        "p=2\n",
        "for i in read_lines:\n",
        "  ls = []\n",
        "  var = int(i.split()[0])/(math.log(p,2))\n",
        "  if(c<50):\n",
        "    DCG50 += var\n",
        "\n",
        "  DCGWhole += var\n",
        "  ls.append(var)\n",
        "  ls.append(i)\n",
        "  dcg.append(ls)\n",
        "  c+=1\n",
        "  p+=1"
      ],
      "execution_count": 6,
      "outputs": []
    },
    {
      "cell_type": "code",
      "metadata": {
        "colab": {
          "base_uri": "https://localhost:8080/"
        },
        "id": "Fi7YgWZz4DIH",
        "outputId": "d1136af8-a2d9-4ed0-d8d4-f5843315033f"
      },
      "source": [
        "print(DCG50,DCGWhole)"
      ],
      "execution_count": 7,
      "outputs": [
        {
          "output_type": "stream",
          "text": [
            "7.19450227631398 12.337484420604602\n"
          ],
          "name": "stdout"
        }
      ]
    },
    {
      "cell_type": "code",
      "metadata": {
        "id": "hHflQ7W146Za"
      },
      "source": [
        "#calculate cummulative value\n",
        "i=1\n",
        "while i< len(dcg):\n",
        "  dcg[i][0] += dcg[i-1][0]\n",
        "  i+=1\n"
      ],
      "execution_count": 8,
      "outputs": []
    },
    {
      "cell_type": "code",
      "metadata": {
        "colab": {
          "base_uri": "https://localhost:8080/"
        },
        "id": "x5kkCm2E5lBc",
        "outputId": "86bebf64-01e4-4a73-8607-f5fb43b7252b"
      },
      "source": [
        "dcg = sorted(dcg,key=lambda x: (x[0]),reverse=True)\n",
        "count=0\n",
        "dcg_write = open(\"DCG.txt\", \"w\")  # write mode\n",
        "for i in range(len(dcg)):\n",
        "  dcg_write.write(dcg[i][1])\n",
        "  count+=1\n",
        "print(count)\n",
        "\n",
        "dcg_write.close()\n",
        "#no of doc with qid 4"
      ],
      "execution_count": 9,
      "outputs": [
        {
          "output_type": "stream",
          "text": [
            "103\n"
          ],
          "name": "stdout"
        }
      ]
    },
    {
      "cell_type": "code",
      "metadata": {
        "id": "z3dEvbZe5phv"
      },
      "source": [
        "for_idcg = []\n",
        "for i in read_lines:\n",
        "  ls = []\n",
        "  sp = i.split()\n",
        "  ls.append(int(sp[0]))\n",
        "  ls.append(i)\n",
        "  for_idcg.append(ls)\n",
        "\n",
        "#for_idcg"
      ],
      "execution_count": 10,
      "outputs": []
    },
    {
      "cell_type": "code",
      "metadata": {
        "id": "WPxMzgj6sob7"
      },
      "source": [
        "for_idcg = sorted(for_idcg,key=lambda x: (x[0]),reverse=True)\n",
        "#for_idcg"
      ],
      "execution_count": 11,
      "outputs": []
    },
    {
      "cell_type": "code",
      "metadata": {
        "colab": {
          "base_uri": "https://localhost:8080/"
        },
        "id": "9mR0meqhs1Ux",
        "outputId": "0e5b88e5-b19c-4025-be7f-3afecced5492"
      },
      "source": [
        "idcg50 = 0\n",
        "idcgWhole = 0\n",
        "p=2\n",
        "c = 0\n",
        "for i in range(len(for_idcg)):\n",
        "  var = for_idcg[i][0]/(math.log(p,2))\n",
        "  if c<50:\n",
        "    idcg50 += var\n",
        "  \n",
        "  idcgWhole += var\n",
        "  c+=1\n",
        "\n",
        "ndcg50 = DCG50/idcg50\n",
        "ndcgWhole = DCGWhole/idcgWhole\n",
        "\n",
        "print(\"NDCG At 50 : \",ndcg50)\n",
        "print(\"NDCG for whole : \",ndcgWhole)"
      ],
      "execution_count": 12,
      "outputs": [
        {
          "output_type": "stream",
          "text": [
            "NDCG At 50 :  0.11419844883038063\n",
            "NDCG for whole :  0.1958330860413429\n"
          ],
          "name": "stdout"
        }
      ]
    },
    {
      "cell_type": "code",
      "metadata": {
        "colab": {
          "base_uri": "https://localhost:8080/",
          "height": 347
        },
        "id": "IQ2KqiyD7ihC",
        "outputId": "c8da063d-3922-4b6b-deb5-9e24b081f22f"
      },
      "source": [
        "import matplotlib.pyplot as plt \n",
        "precList=[]\n",
        "for i in read_data:\n",
        "  precList.append([int(i.split()[0]),i.split()[1],float(i.split()[76].split(':',1)[-1])])\n",
        "print(len(precList))\n",
        "precList.sort(key=lambda x: x[2],reverse=True)\n",
        "\n",
        "total_relevant = 0\n",
        "\n",
        "for i in range(len(precList)):\n",
        "    if precList[i][0] > 0 and precList[i][1] == 'qid:4':\n",
        "        total_relevant=total_relevant+1\n",
        "print(\"total_relevant: \",total_relevant)\n",
        "\n",
        "recall=[]\n",
        "precision = []\n",
        "relevant=0\n",
        "returned=0\n",
        "\n",
        "for i in range(len(precList)):\n",
        "\n",
        "    if precList[i][1]=='qid:4':\n",
        "        returned+=1\n",
        "        if precList[i][0] > 0:\n",
        "            relevant+=1\n",
        "        precision.append(relevant/returned)\n",
        "\n",
        "        \n",
        "        recall.append(relevant/total_relevant)\n",
        "print(len(recall))\n",
        "print(len(precision))\n",
        "\n",
        "plt.plot(recall,precision)\n",
        "plt.xlabel('Recall')\n",
        "plt.ylabel('Precision')\n",
        "plt.show()\n"
      ],
      "execution_count": 13,
      "outputs": [
        {
          "output_type": "stream",
          "text": [
            "239093\n",
            "total_relevant:  44\n",
            "103\n",
            "103\n"
          ],
          "name": "stdout"
        },
        {
          "output_type": "display_data",
          "data": {
            "image/png": "[encoded data removed]",
            "text/plain": [
              "<Figure size 432x288 with 1 Axes>"
            ]
          },
          "metadata": {
            "tags": [],
            "needs_background": "light"
          }
        }
      ]
    },
    {
      "cell_type": "code",
      "metadata": {
        "id": "Yy-YLdmi_M_Z"
      },
      "source": [
        ""
      ],
      "execution_count": 13,
      "outputs": []
    }
  ]
}